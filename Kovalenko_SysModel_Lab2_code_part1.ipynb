{
 "cells": [
  {
   "cell_type": "code",
   "execution_count": 15,
   "metadata": {},
   "outputs": [],
   "source": [
    "# генератор псевдослучайной равномернораспределенной величины\n",
    "import random\n",
    "def gen():\n",
    "    arr = [] \n",
    "    a = 630360016\n",
    "    m = 2147483647\n",
    "    n = 10\n",
    "    for i in range(n):\n",
    "        x = random.randint(1000000000, 1500000000)\n",
    "        xx = a*x % m\n",
    "        y = xx/m\n",
    "        arr.append(y)\n",
    "    return arr"
   ]
  },
  {
   "cell_type": "code",
   "execution_count": 16,
   "metadata": {},
   "outputs": [],
   "source": [
    "# последовательность интервалов по заданному ряду распределения \n",
    "def intervals(xi, pi):\n",
    "    y = {}\n",
    "    x = []\n",
    "    x.append(0) \n",
    "    s = 0\n",
    "    for i in range(len(pi)-1):\n",
    "        s = s + pi[i]\n",
    "        x.append(s)\n",
    "        y[xi[i]] = [x[i],x[i+1]]   \n",
    "    y[xi[len(xi)-1]] = [x[len(x)-1], 1]\n",
    "    return y"
   ]
  },
  {
   "cell_type": "code",
   "execution_count": 17,
   "metadata": {},
   "outputs": [],
   "source": [
    "# ключ словаря по значению\n",
    "def get_key(val, y): \n",
    "    for key, value in y.items(): \n",
    "         if val == value: \n",
    "             return key\n",
    "    return \"key doesn't exist\""
   ]
  },
  {
   "cell_type": "code",
   "execution_count": 18,
   "metadata": {},
   "outputs": [],
   "source": [
    "# генератор дискретной случайной величины\n",
    "def gendis(xi, pi):\n",
    "    y = intervals(xi, pi)\n",
    "    x = []\n",
    "    arr = []\n",
    "    for k in range(1000):\n",
    "        arr.append(gen()[0]) \n",
    "    for i in range(len(arr)):\n",
    "        for j in y:\n",
    "            if arr[i] <= y[j][1] and arr[i] >= y[j][0]:\n",
    "                x.append(get_key(y[j], y))\n",
    "        if len(x) == 10000:\n",
    "            break\n",
    "    return x"
   ]
  },
  {
   "cell_type": "code",
   "execution_count": 19,
   "metadata": {},
   "outputs": [],
   "source": [
    "# вероятность распределения по закону Пуассона\n",
    "import math\n",
    "def p(xi, l):\n",
    "    ll = math.exp(-l)\n",
    "    pi = []\n",
    "    for i in range(len(xi)):\n",
    "        pi.append(l**xi[i]*ll/math.factorial(xi[i]))\n",
    "    return pi"
   ]
  },
  {
   "cell_type": "code",
   "execution_count": 20,
   "metadata": {},
   "outputs": [],
   "source": [
    "# Мат. ожидание\n",
    "def expectedV(x):\n",
    "    s = sum(x)\n",
    "    return s/len(x)"
   ]
  },
  {
   "cell_type": "code",
   "execution_count": 21,
   "metadata": {},
   "outputs": [],
   "source": [
    "# дисперсия\n",
    "def disp(x):\n",
    "    s, ss = 0.0, 0.0\n",
    "    for k in x:\n",
    "        s += (k - expectedV(x))**2\n",
    "        ss = s/(len(x)-1)\n",
    "    return (ss)"
   ]
  },
  {
   "cell_type": "code",
   "execution_count": 22,
   "metadata": {},
   "outputs": [],
   "source": [
    "# Корреляция\n",
    "def cor(x):\n",
    "    n = len(x)\n",
    "    max_j = 20\n",
    "    k = [0] * max_j\n",
    "    for j in range(1, max_j):\n",
    "        k[j] = sum([(x[i] - expectedV(x)) * (x[i + j] - expectedV(x)) for i in range(n-j)]) / (n-j)\n",
    "    p = [float(elem)/disp(x) for elem in k]\n",
    "    return p"
   ]
  },
  {
   "cell_type": "code",
   "execution_count": 23,
   "metadata": {},
   "outputs": [],
   "source": [
    "# доверительный интервал\n",
    "import math\n",
    "def conf_interv(x):\n",
    "    m = [expectedV(x) - 1.96*math.sqrt(disp(x))/math.sqrt(len(x)), expectedV(x) + 1.96*math.sqrt(disp(x))/math.sqrt(len(x))]\n",
    "    return m"
   ]
  },
  {
   "cell_type": "code",
   "execution_count": 24,
   "metadata": {},
   "outputs": [],
   "source": [
    "# график корреляции\n",
    "def cor_chart(c, color):\n",
    "    fig = plt.figure(figsize=(5,5))\n",
    "    plt.scatter(list(range(1, len(c)+1)), c, color=color)\n",
    "    plt.ylabel('значения корреляционной функции')\n",
    "    plt.xlabel('номера значений')\n",
    "    plt.title('График корреляции')"
   ]
  },
  {
   "cell_type": "code",
   "execution_count": 25,
   "metadata": {},
   "outputs": [],
   "source": [
    "# набор координат для графика частоты появления сл. вел.\n",
    "import collections\n",
    "def get_bars(x):\n",
    "    n = 1000\n",
    "    c = dict(collections.Counter(x[0:n]))\n",
    "    yy = list(c.values())\n",
    "    xx = list(c.keys())\n",
    "    return (xx, yy)\n",
    "    "
   ]
  },
  {
   "cell_type": "code",
   "execution_count": 26,
   "metadata": {},
   "outputs": [],
   "source": [
    "# график распределения случайной величины\n",
    "from matplotlib import pyplot as plt\n",
    "def chart(x, color):\n",
    "    xx = []\n",
    "    yy = []\n",
    "    for i in range(len(x) - 1):\n",
    "        xx.append(x[i])\n",
    "        yy.append(x[i+1]/1000)\n",
    "    fig = plt.figure(figsize=(5,5))\n",
    "    plt.scatter(xx,yy, color = color)"
   ]
  },
  {
   "cell_type": "code",
   "execution_count": 27,
   "metadata": {},
   "outputs": [],
   "source": [
    "# график частоты появления случайной величины\n",
    "def chart_bars(x, color): #color - str type   \n",
    "    n = 100\n",
    "    xx, yy = get_bars(x)\n",
    "    fig = plt.figure(figsize=(5,5))\n",
    "    plt.bar(xx, yy, align='center', width = 0.5, color = color)\n",
    "    plt.xticks(xx)\n",
    "    plt.ylabel('частота появления')\n",
    "    plt.xlabel('значения случайной величины')\n",
    "    plt.title('График частоты появления случайной величины')"
   ]
  },
  {
   "cell_type": "code",
   "execution_count": 28,
   "metadata": {},
   "outputs": [
    {
     "name": "stdout",
     "output_type": "stream",
     "text": [
      "Случайная дискретная величина Xi:  [3, 15, 15, 15, 15, 5, 3, 5, 3, 15, 3, 20, 5, 5, 3, 15, 8, 2, 15] \n",
      "\n",
      "i =  1000 \n",
      "\n",
      "Мат.ожидание =  9.374 \n",
      "\n",
      "Дисперсия =  37.94206606606578 \n",
      "\n",
      "Доверительный интервал =  [8.992217023690948, 9.755782976309053] \n",
      "\n"
     ]
    },
    {
     "data": {
      "image/png": "[encoded data removed]",
      "text/plain": [
       "<Figure size 360x360 with 1 Axes>"
      ]
     },
     "metadata": {
      "needs_background": "light"
     },
     "output_type": "display_data"
    },
    {
     "data": {
      "image/png": "[encoded data removed]",
      "text/plain": [
       "<Figure size 360x360 with 1 Axes>"
      ]
     },
     "metadata": {
      "needs_background": "light"
     },
     "output_type": "display_data"
    }
   ],
   "source": [
    "# моделирование случайной дискретной величины по заданному ряду распределения\n",
    "# метод обратных функций\n",
    "pi = [0.1, 0.15, 0.25, 0.05, 0.05, 0.3, 0.1]\n",
    "xi = [2, 3, 5, 8, 11, 15, 20] \n",
    "\n",
    "x1 = gendis(xi, pi)\n",
    "mat1 = expectedV(x1)\n",
    "d1 = disp(x1)\n",
    "cr1 = cor(x1)\n",
    "m1 = conf_interv(x1)\n",
    "\n",
    "print('Случайная дискретная величина Xi: ', x1[0:19], '\\n')\n",
    "print('i = ',len(x1), '\\n')\n",
    "print('Мат.ожидание = ', mat1, '\\n')\n",
    "print('Дисперсия = ', d1, '\\n')\n",
    "print('Доверительный интервал = ', m1, '\\n')\n",
    "\n",
    "\n",
    "cor_chart(cr1, 'b')\n",
    "chart_bars(x1, 'g')"
   ]
  },
  {
   "cell_type": "code",
   "execution_count": null,
   "metadata": {},
   "outputs": [],
   "source": []
  },
  {
   "cell_type": "code",
   "execution_count": null,
   "metadata": {},
   "outputs": [],
   "source": []
  }
 ],
 "metadata": {
  "kernelspec": {
   "display_name": "Python 3",
   "language": "python",
   "name": "python3"
  },
  "language_info": {
   "codemirror_mode": {
    "name": "ipython",
    "version": 3
   },
   "file_extension": ".py",
   "mimetype": "text/x-python",
   "name": "python",
   "nbconvert_exporter": "python",
   "pygments_lexer": "ipython3",
   "version": "3.7.4"
  }
 },
 "nbformat": 4,
 "nbformat_minor": 2
}
