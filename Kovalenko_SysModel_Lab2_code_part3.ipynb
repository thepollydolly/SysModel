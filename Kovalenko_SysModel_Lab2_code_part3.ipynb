{
 "cells": [
  {
   "cell_type": "code",
   "execution_count": 103,
   "metadata": {},
   "outputs": [],
   "source": [
    "# генератор псевдослучайной равномернораспределенной величины\n",
    "import random\n",
    "def gen():\n",
    "    arr = [] \n",
    "    a = 630360016\n",
    "    m = 2147483647\n",
    "    n = 10\n",
    "    for i in range(n):\n",
    "        x = random.randint(1000000000, 1500000000)\n",
    "        xx = a*x % m\n",
    "        y = xx/m\n",
    "        arr.append(y)\n",
    "    return arr"
   ]
  },
  {
   "cell_type": "code",
   "execution_count": 104,
   "metadata": {},
   "outputs": [],
   "source": [
    "# генератор дискретной случайной величины по закону пуассона\n",
    "import math\n",
    "def poisson():\n",
    "    l = 5\n",
    "    a = math.exp(-l)\n",
    "    b = 1\n",
    "    i, count = 0, 0\n",
    "    x = []\n",
    "    while count<100:\n",
    "        y = gen()[0]\n",
    "        b = b*y\n",
    "        if b<a:\n",
    "            x.append(i)\n",
    "            count+=1\n",
    "            b = 1\n",
    "            i = 0\n",
    "        i += 1\n",
    "    return x"
   ]
  },
  {
   "cell_type": "code",
   "execution_count": 105,
   "metadata": {},
   "outputs": [],
   "source": [
    "# мат. ожидание от х\n",
    "def expectedV(x):\n",
    "    s = sum(x)\n",
    "    return s/len(x)"
   ]
  },
  {
   "cell_type": "code",
   "execution_count": 106,
   "metadata": {},
   "outputs": [],
   "source": [
    "# дисперсия от х\n",
    "def disp(x):\n",
    "    s, ss = 0.0, 0.0\n",
    "    for k in x:\n",
    "        s += (k - expectedV(x))**2\n",
    "        ss = s/(len(x)-1)\n",
    "    return (ss)"
   ]
  },
  {
   "cell_type": "code",
   "execution_count": 107,
   "metadata": {},
   "outputs": [],
   "source": [
    "# Корреляция\n",
    "def cor(x):\n",
    "    n = len(x)\n",
    "    max_j = 20\n",
    "    k = [0] * max_j\n",
    "    for j in range(1, max_j):\n",
    "        k[j] = sum([(x[i] - expectedV(x)) * (x[i + j] - expectedV(x)) for i in range(n-j)]) / (n-j)\n",
    "    p = [float(elem)/disp(x) for elem in k]\n",
    "    return p"
   ]
  },
  {
   "cell_type": "code",
   "execution_count": 108,
   "metadata": {},
   "outputs": [],
   "source": [
    "# доверительный интервал от х\n",
    "import math\n",
    "def conf_interval(x):\n",
    "    m = [expectedV(x) - 1.96*math.sqrt(disp(x))/math.sqrt(len(x)), expectedV(x) + 1.96*math.sqrt(disp(x))/math.sqrt(len(x))]\n",
    "    return m"
   ]
  },
  {
   "cell_type": "code",
   "execution_count": 109,
   "metadata": {},
   "outputs": [],
   "source": [
    "# график корреляции от х\n",
    "from matplotlib import pyplot as plt\n",
    "def cor_chart(c, color):\n",
    "    fig = plt.figure(figsize=(5,5))\n",
    "    plt.scatter(list(range(1, len(c)+1)), c, color=color)\n",
    "    plt.ylabel('значения корреляционной функции')\n",
    "    plt.xlabel('номера значений')\n",
    "    plt.title('График корреляции')"
   ]
  },
  {
   "cell_type": "code",
   "execution_count": 110,
   "metadata": {},
   "outputs": [],
   "source": [
    "# набор координат для графика частоты появления сл. вел. от х\n",
    "import collections\n",
    "def get_bars(x):\n",
    "    n = 100\n",
    "    c = dict(collections.Counter(x[0:n]))\n",
    "    yy = list(c.values())\n",
    "    xx = list(c.keys())\n",
    "    return (xx, yy)   "
   ]
  },
  {
   "cell_type": "code",
   "execution_count": 111,
   "metadata": {},
   "outputs": [],
   "source": [
    "# график частоты появления случайной величины от х\n",
    "def chart_bars(xx, color): #color - str type \n",
    "    n = 100\n",
    "    x, y = get_bars(xx)\n",
    "    fig = plt.figure(figsize=(5,5))\n",
    "    plt.bar(x, y, align='center', width = 0.5, color = color)\n",
    "    plt.xticks(x)\n",
    "    plt.ylabel('частота появления')\n",
    "    plt.xlabel('значения случайной величины')\n",
    "    plt.title('График частоты появления случайной величины')"
   ]
  },
  {
   "cell_type": "code",
   "execution_count": 119,
   "metadata": {
    "scrolled": false
   },
   "outputs": [
    {
     "name": "stdout",
     "output_type": "stream",
     "text": [
      "Случайная дискретная величина Xi:  [7, 4, 6, 8, 3, 8, 4, 6, 8, 5, 3, 4, 4, 5, 6, 3, 7, 10, 5] \n",
      "\n",
      "i =  100 \n",
      "\n",
      "Мат.ожидание =  6.12 \n",
      "\n",
      "Дисперсия =  4.147070707070706 \n",
      "\n",
      "Доверительный интервал =  [5.720858586109098, 6.519141413890902] \n",
      "\n"
     ]
    },
    {
     "data": {
      "image/png": "[encoded data removed]",
      "text/plain": [
       "<Figure size 360x360 with 1 Axes>"
      ]
     },
     "metadata": {
      "needs_background": "light"
     },
     "output_type": "display_data"
    },
    {
     "data": {
      "image/png": "[encoded data removed]",
      "text/plain": [
       "<Figure size 360x360 with 1 Axes>"
      ]
     },
     "metadata": {
      "needs_background": "light"
     },
     "output_type": "display_data"
    }
   ],
   "source": [
    "# моделирование случайной дискретной величины по закону Пуассона\n",
    "# метод последовательного увеличения числа членов n в произведении\n",
    "\n",
    "x3 = poisson()\n",
    "\n",
    "mat3 = expectedV(x3)\n",
    "d3 = disp(x3)\n",
    "cr3 = cor(x3)\n",
    "m3 = conf_interval(x3)\n",
    "\n",
    "print('Случайная дискретная величина Xi: ', x3[0:19], '\\n')\n",
    "print('i = ',len(x3), '\\n')\n",
    "print('Мат.ожидание = ', mat3, '\\n')\n",
    "print('Дисперсия = ', d3, '\\n')\n",
    "print('Доверительный интервал = ', m3, '\\n')\n",
    "\n",
    "cor_chart(cr3[0:20], 'r')\n",
    "chart_bars(x3, 'b')"
   ]
  }
 ],
 "metadata": {
  "kernelspec": {
   "display_name": "Python 3",
   "language": "python",
   "name": "python3"
  },
  "language_info": {
   "codemirror_mode": {
    "name": "ipython",
    "version": 3
   },
   "file_extension": ".py",
   "mimetype": "text/x-python",
   "name": "python",
   "nbconvert_exporter": "python",
   "pygments_lexer": "ipython3",
   "version": "3.7.4"
  }
 },
 "nbformat": 4,
 "nbformat_minor": 2
}
